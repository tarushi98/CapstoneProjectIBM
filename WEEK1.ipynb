{
  "nbformat": 4,
  "nbformat_minor": 0,
  "metadata": {
    "colab": {
      "name": "WEEK1.ipynb",
      "provenance": []
    },
    "kernelspec": {
      "name": "python3",
      "display_name": "Python 3"
    }
  },
  "cells": [
    {
      "cell_type": "code",
      "metadata": {
        "id": "S-7T4YO2bf28",
        "colab_type": "code",
        "colab": {
          "base_uri": "https://localhost:8080/",
          "height": 35
        },
        "outputId": "2180b1ca-ea38-45fb-fa07-80efbd743998"
      },
      "source": [
        "import numpy as np\n",
        "import pandas as pd\n",
        "print(\"Hello Capstone Project Course\")"
      ],
      "execution_count": 1,
      "outputs": [
        {
          "output_type": "stream",
          "text": [
            "Hello Capstone Project Course\n"
          ],
          "name": "stdout"
        }
      ]
    }
  ]
}